{
  "nbformat": 4,
  "nbformat_minor": 0,
  "metadata": {
    "colab": {
      "provenance": []
    },
    "kernelspec": {
      "name": "python3",
      "display_name": "Python 3"
    },
    "language_info": {
      "name": "python"
    }
  },
  "cells": [
    {
      "cell_type": "markdown",
      "source": [
        "# ***Exercise 3***"
      ],
      "metadata": {
        "id": "PE7JfDA7gC2g"
      }
    },
    {
      "cell_type": "markdown",
      "source": [
        "Write a program to calculate your BMI and give weight status. Body Mass Index (BMI) is an internationally used measurement to check if you are a healthy weight for your height.The metric BMI formula accepts weight in kilograms and height in meters: BMI= weight(kg)/height2(m2) BMI Weight Status Categories table BMI range - kg/m2 Category Below 18.5 Underweight 18.5 -24.9 Normal 25 - 29.9 Overweight 30 & Above Obese An example run of the program (numbers in bold are typed in by the user) Enter your weight in (kg): 75 Enter your height in (m): 1.70 Your BMI is: 25.95 You are in the “overweight” range."
      ],
      "metadata": {
        "id": "AHYTM5VTo8Uj"
      }
    },
    {
      "cell_type": "code",
      "source": [
        "weight = float(input(\"Enter your weight in (kg): \"))\n",
        "height = float(input(\"Enter your height in (m): \"))\n",
        "bmi = weight / (height ** 2)\n",
        "if bmi < 18.5:\n",
        "    category = \"underweight\"\n",
        "elif 18.5 <= bmi < 25:\n",
        "    category = \"normal\"\n",
        "elif 25 <= bmi < 30:\n",
        "    category = \"overweight\"\n",
        "else:\n",
        "    category = \"obese\"\n",
        "\n",
        "print(f\"Your BMI is: {bmi:.2f}\")\n",
        "print(f\"You are in the \\\"{category}\\\" range.\")"
      ],
      "metadata": {
        "colab": {
          "base_uri": "https://localhost:8080/"
        },
        "id": "RBL4Un3Qo9xT",
        "outputId": "27e892f0-e869-4454-efc6-4e2b7d94ca3c"
      },
      "execution_count": null,
      "outputs": [
        {
          "output_type": "stream",
          "name": "stdout",
          "text": [
            "Enter your weight in (kg): 75\n",
            "Enter your height in (m): 1.70\n",
            "Your BMI is: 25.95\n",
            "You are in the \"overweight\" range.\n"
          ]
        }
      ]
    },
    {
      "cell_type": "code",
      "source": [],
      "metadata": {
        "id": "YGr9taXDpHEk"
      },
      "execution_count": null,
      "outputs": []
    }
  ]
}