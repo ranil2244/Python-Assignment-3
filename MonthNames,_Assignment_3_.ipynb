{
  "nbformat": 4,
  "nbformat_minor": 0,
  "metadata": {
    "colab": {
      "provenance": []
    },
    "kernelspec": {
      "name": "python3",
      "display_name": "Python 3"
    },
    "language_info": {
      "name": "python"
    }
  },
  "cells": [
    {
      "cell_type": "markdown",
      "source": [
        "# *Exercise 1*"
      ],
      "metadata": {
        "id": "fSuuYbFV_6uV"
      }
    },
    {
      "cell_type": "markdown",
      "source": [
        "Name your file: MonthNames.py\n",
        "Write a program that reads an integer value between 1 and 12 from the user and prints output the corresponding month of the year.\n",
        "An example run of the program (numbers in bold are typed in by the user)\n",
        "Enter the month: 3\n",
        "Month 3 is March\n",
        "\n"
      ],
      "metadata": {
        "id": "59lg-2VE_vAt"
      }
    },
    {
      "cell_type": "code",
      "source": [
        "months = [\"January\", \"February\", \"March\", \"April\", \"May\", \"June\",\n",
        "    \"July\", \"August\", \"September\", \"October\", \"November\", \"December\"]\n",
        "\n",
        "month_number = int(input(\"Enter the month (1-12): \"))\n",
        "if 1 <= month_number <= 12:\n",
        "\n",
        "    print(f\"Month {month_number} is {months[month_number - 1]}\")\n",
        "else:\n",
        "    print(\"Invalid input. Please enter a number between 1 and 12.\")"
      ],
      "metadata": {
        "colab": {
          "base_uri": "https://localhost:8080/"
        },
        "id": "K59MAMj39-Qm",
        "outputId": "06d4e5fa-2bf1-46d8-c3f8-817a1ec89f47"
      },
      "execution_count": null,
      "outputs": [
        {
          "output_type": "stream",
          "name": "stdout",
          "text": [
            "Enter the month (1-12): 6\n",
            "Month 6 is June\n"
          ]
        }
      ]
    },
    {
      "cell_type": "markdown",
      "source": [
        "# *Exercise 2*"
      ],
      "metadata": {
        "id": "3I4xg-xnAKw3"
      }
    },
    {
      "cell_type": "markdown",
      "source": [
        "A certain cinema currently sells tickets for a full price of 6 pounds, but always sells tickets for half price to people who are less than 16 years old, and for a third of the price for people who are 60 years old or more.\n",
        "An example run of the program (numbers in bold are typed in by the user)\n",
        "Enter your age: 63\n",
        "Your ticket costs £2.00\n"
      ],
      "metadata": {
        "id": "maOcPmQGARxw"
      }
    },
    {
      "cell_type": "code",
      "source": [
        "full_price = 6.0\n",
        "age = int(input(\"Enter your age: \"))\n",
        "if age < 16:\n",
        "    ticket_price = full_price / 2\n",
        "elif age >= 60:\n",
        "    ticket_price = full_price / 3\n",
        "else:\n",
        "    ticket_price = full_price\n",
        "\n",
        "print(f\"Your ticket costs £{ticket_price:.2f}\")"
      ],
      "metadata": {
        "colab": {
          "base_uri": "https://localhost:8080/"
        },
        "id": "g-Fpv93r-P-e",
        "outputId": "b686c3a4-3048-42be-9ea4-fef00ec943c3"
      },
      "execution_count": null,
      "outputs": [
        {
          "output_type": "stream",
          "name": "stdout",
          "text": [
            "Enter your age: 32\n",
            "Your ticket costs £6.00\n"
          ]
        }
      ]
    },
    {
      "cell_type": "markdown",
      "source": [
        "# ***Exercise 3***"
      ],
      "metadata": {
        "id": "Ve0jeDoPGknq"
      }
    },
    {
      "cell_type": "markdown",
      "source": [
        "Write a program to calculate your BMI and give weight status. Body Mass Index (BMI) is an internationally used measurement to check if you are a healthy weight for your height.The metric BMI formula accepts weight in kilograms and height in meters:\n",
        "BMI= weight(kg)/height2(m2)\n",
        "BMI Weight Status Categories table\n",
        "BMI range - kg/m2   Category\n",
        "Below 18.5                    Underweight\n",
        "18.5 -24.9         Normal\n",
        "25 - 29.9          Overweight\n",
        "30 & Above     Obese\n",
        "An example run of the program (numbers in bold are typed in by the user)\n",
        "Enter your weight in (kg): 75\n",
        "Enter your height in (m): 1.70\n",
        "Your BMI is: 25.95\n",
        "You are in the “overweight” range.\n"
      ],
      "metadata": {
        "id": "gQkJfaIXCkDU"
      }
    },
    {
      "cell_type": "code",
      "source": [
        "weight = float(input(\"Enter your weight in (kg): \"))\n",
        "height = float(input(\"Enter your height in (m): \"))\n",
        "bmi = weight / (height ** 2)\n",
        "if bmi < 18.5:\n",
        "    category = \"underweight\"\n",
        "elif 18.5 <= bmi < 25:\n",
        "    category = \"normal\"\n",
        "elif 25 <= bmi < 30:\n",
        "    category = \"overweight\"\n",
        "else:\n",
        "    category = \"obese\"\n",
        "\n",
        "print(f\"Your BMI is: {bmi:.2f}\")\n",
        "print(f\"You are in the \\\"{category}\\\" range.\")"
      ],
      "metadata": {
        "colab": {
          "base_uri": "https://localhost:8080/"
        },
        "id": "Qzaah2_HA4Tl",
        "outputId": "dde6b6d6-54c5-484a-dbe1-80a01741e2b5"
      },
      "execution_count": null,
      "outputs": [
        {
          "output_type": "stream",
          "name": "stdout",
          "text": [
            "Enter your weight in (kg): 77\n",
            "Enter your height in (m): 176\n",
            "You are in the \"underweight\" range.\n"
          ]
        }
      ]
    },
    {
      "cell_type": "markdown",
      "source": [
        "# ***Exercise 4***"
      ],
      "metadata": {
        "id": "7QgGA3syEvll"
      }
    },
    {
      "cell_type": "markdown",
      "source": [
        "Write a Python program to receive 3 numbers from the user and print the greatest among them."
      ],
      "metadata": {
        "id": "fr1eqw5LFtDS"
      }
    },
    {
      "cell_type": "code",
      "source": [
        "num1 = float(input(\"Enter the first number: \"))\n",
        "num2 = float(input(\"Enter the second number: \"))\n",
        "num3 = float(input(\"Enter the third number: \"))\n",
        "if num1 >= num2 and num1 >= num3:\n",
        "    greatest = num1\n",
        "elif num2 >= num1 and num2 >= num3:\n",
        "    greatest = num2\n",
        "else:\n",
        "    greatest = num3\n",
        "\n",
        "print(f\"The greatest number is: {greatest}\")"
      ],
      "metadata": {
        "colab": {
          "base_uri": "https://localhost:8080/"
        },
        "id": "1OEnAYiyFnp6",
        "outputId": "0b10110c-6467-4c4d-ae97-1224e980f3f4"
      },
      "execution_count": null,
      "outputs": [
        {
          "output_type": "stream",
          "name": "stdout",
          "text": [
            "Enter the first number: 20\n",
            "Enter the second number: 27\n",
            "Enter the third number: 23\n",
            "The greatest number is: 27.0\n"
          ]
        }
      ]
    },
    {
      "cell_type": "markdown",
      "source": [
        "# ***Exercise 5***"
      ],
      "metadata": {
        "id": "y7HoenVGGQuC"
      }
    },
    {
      "cell_type": "markdown",
      "source": [
        "Find the factorial of a given number using loops(note the number is received from the user)"
      ],
      "metadata": {
        "id": "jtIEGuYxG9-Y"
      }
    },
    {
      "cell_type": "code",
      "source": [
        "num = int(input(\"Enter a number: \"))\n",
        "factorial = 1\n",
        "if num < 0:\n",
        "    print(\"Factorial is not defined for negative numbers.\")\n",
        "else:\n",
        "    for i in range(1, num + 1):\n",
        "      factorial *= i\n",
        "print(f\"The factorial of {num} is: {factorial}\")"
      ],
      "metadata": {
        "colab": {
          "base_uri": "https://localhost:8080/"
        },
        "id": "rQuHkXZWF8vB",
        "outputId": "8fddf311-25f7-4a5a-9d36-c09bd136323a"
      },
      "execution_count": null,
      "outputs": [
        {
          "output_type": "stream",
          "name": "stdout",
          "text": [
            "Enter a number: 5\n",
            "The factorial of 5 is: 120\n"
          ]
        }
      ]
    },
    {
      "cell_type": "markdown",
      "source": [
        "# ***Exercise 6***"
      ],
      "metadata": {
        "id": "ICc5OfdfH7Ry"
      }
    },
    {
      "cell_type": "markdown",
      "source": [
        "Reverse a number using while loop"
      ],
      "metadata": {
        "id": "aM1ZrYoRI6Ow"
      }
    },
    {
      "cell_type": "code",
      "source": [
        "num = int(input(\"Enter a number: \"))\n",
        "reversed_num = 0\n",
        "original_num = num\n",
        "while num != 0:\n",
        "    digit = num % 10\n",
        "    reversed_num = reversed_num * 10 + digit\n",
        "    num //= 10\n",
        "\n",
        "print(f\"The reverse of {original_num} is: {reversed_num}\")"
      ],
      "metadata": {
        "colab": {
          "base_uri": "https://localhost:8080/"
        },
        "id": "o3xYc2q9HQU9",
        "outputId": "60f38b29-cacd-4259-d8e2-eb779d572b89"
      },
      "execution_count": null,
      "outputs": [
        {
          "output_type": "stream",
          "name": "stdout",
          "text": [
            "Enter a number: 12345\n",
            "The reverse of 12345 is: 54321\n"
          ]
        }
      ]
    },
    {
      "cell_type": "markdown",
      "source": [
        "# ***Exercise 7***"
      ],
      "metadata": {
        "id": "zsYpm0_3PUVk"
      }
    },
    {
      "cell_type": "markdown",
      "source": [
        "Finding the multiples of a number using loop"
      ],
      "metadata": {
        "id": "M2F1m_xHPfOn"
      }
    },
    {
      "cell_type": "code",
      "source": [
        "num = int(input(\"Enter a number: \"))\n",
        "count = int(input(\"Enter how many multiples you want: \"))\n",
        "print(f\"The first {count} multiples of {num} are:\")\n",
        "for i in range(1, count + 1):\n",
        "    print(num * i)"
      ],
      "metadata": {
        "colab": {
          "base_uri": "https://localhost:8080/"
        },
        "id": "QtEiHRwhPgSC",
        "outputId": "96bc5aa3-1eab-4f3e-e40b-933676361e79"
      },
      "execution_count": null,
      "outputs": [
        {
          "output_type": "stream",
          "name": "stdout",
          "text": [
            "Enter a number: 7\n",
            "Enter how many multiples you want: 5\n",
            "The first 5 multiples of 7 are:\n",
            "7\n",
            "14\n",
            "21\n",
            "28\n",
            "35\n"
          ]
        }
      ]
    },
    {
      "cell_type": "markdown",
      "source": [
        "# ***Exercise 8***"
      ],
      "metadata": {
        "id": "lqfICs5fQPoH"
      }
    },
    {
      "cell_type": "markdown",
      "source": [
        "Write a program to print the inputted value as it is and break the loop if the value is 'done'.\n",
        "Example run of the program\n",
        ":hello there\n",
        "hello there\n",
        ":finished\n",
        "finished\n",
        ":done\n",
        "Done\n"
      ],
      "metadata": {
        "id": "tlkF_-_XQW5E"
      }
    },
    {
      "cell_type": "code",
      "source": [
        "while True:\n",
        "   user_input = input(\":\")\n",
        "   if user_input.lower() == \"done\":\n",
        "     print(\"Done\")\n",
        "     break\n",
        "print(user_input)"
      ],
      "metadata": {
        "colab": {
          "base_uri": "https://localhost:8080/"
        },
        "id": "fvMGA7CKQAoJ",
        "outputId": "a2e270bf-cea6-4adc-f523-e1ca324150d9"
      },
      "execution_count": null,
      "outputs": [
        {
          "output_type": "stream",
          "name": "stdout",
          "text": [
            ":hello there\n",
            ":done\n",
            "Done\n",
            "done\n"
          ]
        }
      ]
    },
    {
      "cell_type": "markdown",
      "source": [
        "# ***Exercise 9***"
      ],
      "metadata": {
        "id": "tES7UvxLSaaF"
      }
    },
    {
      "cell_type": "markdown",
      "source": [
        "Write a program that prints the numbers from 1 to 10. But for multiples of three print \"Fizz\" instead of the number and for the multiple of five print \"Buzz\". For numbers which are multiples of both three and five print \"FizzBuzz\""
      ],
      "metadata": {
        "id": "OuZ8ncagSgzC"
      }
    },
    {
      "cell_type": "code",
      "source": [
        "for num in range(1, 11):\n",
        "  if num % 3 == 0 and num % 5 == 0:\n",
        "        print(\"FizzBuzz\")\n",
        "  elif num % 3 == 0:\n",
        "        print(\"Fizz\")\n",
        "  elif num % 5 == 0:\n",
        "        print(\"Buzz\")\n",
        "  else:\n",
        "        print(num)"
      ],
      "metadata": {
        "colab": {
          "base_uri": "https://localhost:8080/"
        },
        "id": "MVZql0xcRCB-",
        "outputId": "98e34516-7a08-4ff8-d69f-8d08edcc2fd8"
      },
      "execution_count": null,
      "outputs": [
        {
          "output_type": "stream",
          "name": "stdout",
          "text": [
            "1\n",
            "2\n",
            "Fizz\n",
            "4\n",
            "Buzz\n",
            "Fizz\n",
            "7\n",
            "8\n",
            "Fizz\n",
            "Buzz\n"
          ]
        }
      ]
    },
    {
      "cell_type": "markdown",
      "source": [
        "# *Exercise 10*"
      ],
      "metadata": {
        "id": "QosyOGKlT7rA"
      }
    },
    {
      "cell_type": "markdown",
      "source": [
        "Write a program to print the following pattern:\n",
        "\n",
        "5 4 3 2 1\n",
        "4 3 2 1\n",
        "3 2 1\n",
        "2 1\n",
        "1\n"
      ],
      "metadata": {
        "id": "eQpmHHAyWSNI"
      }
    },
    {
      "cell_type": "code",
      "source": [
        "for i in range(5, 0, -1):\n",
        "  for j in range(i, 0, -1):\n",
        "        print(j, end=\" \")\n",
        "print()"
      ],
      "metadata": {
        "colab": {
          "base_uri": "https://localhost:8080/"
        },
        "id": "eNkAOhBITFOL",
        "outputId": "23c85e5d-f917-4f81-b87e-568a2c7d1253"
      },
      "execution_count": null,
      "outputs": [
        {
          "output_type": "stream",
          "name": "stdout",
          "text": [
            "5 4 3 2 1 4 3 2 1 3 2 1 2 1 1 \n"
          ]
        }
      ]
    },
    {
      "cell_type": "code",
      "source": [],
      "metadata": {
        "id": "EMsUfJ-eWqrD"
      },
      "execution_count": null,
      "outputs": []
    }
  ]
}